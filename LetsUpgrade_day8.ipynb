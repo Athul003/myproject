{
  "nbformat": 4,
  "nbformat_minor": 0,
  "metadata": {
    "colab": {
      "name": "LetsUpgrade day8.ipynb",
      "provenance": [],
      "authorship_tag": "ABX9TyPu4OIc2dEGgve0SA90a33B",
      "include_colab_link": true
    },
    "kernelspec": {
      "name": "python3",
      "display_name": "Python 3"
    }
  },
  "cells": [
    {
      "cell_type": "markdown",
      "metadata": {
        "id": "view-in-github",
        "colab_type": "text"
      },
      "source": [
        "<a href=\"https://colab.research.google.com/github/Athul003/myproject/blob/master/LetsUpgrade_day8.ipynb\" target=\"_parent\"><img src=\"https://colab.research.google.com/assets/colab-badge.svg\" alt=\"Open In Colab\"/></a>"
      ]
    },
    {
      "cell_type": "markdown",
      "metadata": {
        "id": "jBq9r6PiuXew",
        "colab_type": "text"
      },
      "source": [
        "Assignment 1"
      ]
    },
    {
      "cell_type": "code",
      "metadata": {
        "id": "SdOdbOuzt_BE",
        "colab_type": "code",
        "colab": {}
      },
      "source": [
        " def fibonacci(limit = 10):\n",
        "  \n",
        "  a=0\n",
        "  b=1\n",
        "  for i in range(limit):\n",
        "    print(a)\n",
        "    c = a\n",
        "    a = b\n",
        "    b = c + a"
      ],
      "execution_count": 1,
      "outputs": []
    },
    {
      "cell_type": "code",
      "metadata": {
        "id": "gf_xCjM9uU4B",
        "colab_type": "code",
        "colab": {}
      },
      "source": [
        " def user_fibonacci(fibonacci):\n",
        "    return fibonacci(int(input(\"enter the limit \\n\")))"
      ],
      "execution_count": 2,
      "outputs": []
    },
    {
      "cell_type": "code",
      "metadata": {
        "id": "xK7M1hoxudpU",
        "colab_type": "code",
        "colab": {
          "base_uri": "https://localhost:8080/",
          "height": 485
        },
        "outputId": "946a0a2f-b455-4eb6-928d-b7921491dc49"
      },
      "source": [
        " user_fibonacci(fibonacci)"
      ],
      "execution_count": 3,
      "outputs": [
        {
          "output_type": "stream",
          "text": [
            "enter the limit \n",
            "25\n",
            "0\n",
            "1\n",
            "1\n",
            "2\n",
            "3\n",
            "5\n",
            "8\n",
            "13\n",
            "21\n",
            "34\n",
            "55\n",
            "89\n",
            "144\n",
            "233\n",
            "377\n",
            "610\n",
            "987\n",
            "1597\n",
            "2584\n",
            "4181\n",
            "6765\n",
            "10946\n",
            "17711\n",
            "28657\n",
            "46368\n"
          ],
          "name": "stdout"
        }
      ]
    },
    {
      "cell_type": "markdown",
      "metadata": {
        "id": "fl3jD2fPum8m",
        "colab_type": "text"
      },
      "source": [
        "Assignment 2"
      ]
    },
    {
      "cell_type": "code",
      "metadata": {
        "id": "zjMamWtQuvkb",
        "colab_type": "code",
        "colab": {}
      },
      "source": [
        " def amstrong():\n",
        "    for item in range(1,1000):\n",
        "        sum = 0\n",
        "        temp = item\n",
        "        lenght = len(str(item))\n",
        "  \n",
        "        while temp > 0:\n",
        "            digit = temp %10\n",
        "            sum += digit ** lenght\n",
        "            temp //=10\n",
        "        if item == sum:\n",
        "            yield item"
      ],
      "execution_count": 5,
      "outputs": []
    },
    {
      "cell_type": "code",
      "metadata": {
        "id": "oKYIE1TZu10g",
        "colab_type": "code",
        "colab": {
          "base_uri": "https://localhost:8080/",
          "height": 54
        },
        "outputId": "1c3d6b6d-8c67-4e69-96ed-bbb80119db0b"
      },
      "source": [
        " print(list(amstrong()))"
      ],
      "execution_count": 6,
      "outputs": [
        {
          "output_type": "stream",
          "text": [
            "[1, 2, 3, 4, 5, 6, 7, 8, 9, 153, 370, 371, 407]\n"
          ],
          "name": "stdout"
        }
      ]
    }
  ]
}