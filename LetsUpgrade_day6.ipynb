{
  "nbformat": 4,
  "nbformat_minor": 0,
  "metadata": {
    "colab": {
      "name": "LetsUpgrade day6.ipynb",
      "provenance": [],
      "authorship_tag": "ABX9TyNk5XrTFL7Fxeu1vXS+twOt",
      "include_colab_link": true
    },
    "kernelspec": {
      "name": "python3",
      "display_name": "Python 3"
    }
  },
  "cells": [
    {
      "cell_type": "markdown",
      "metadata": {
        "id": "view-in-github",
        "colab_type": "text"
      },
      "source": [
        "<a href=\"https://colab.research.google.com/github/Athul003/myproject/blob/master/LetsUpgrade_day6.ipynb\" target=\"_parent\"><img src=\"https://colab.research.google.com/assets/colab-badge.svg\" alt=\"Open In Colab\"/></a>"
      ]
    },
    {
      "cell_type": "markdown",
      "metadata": {
        "id": "cPqx1ZRkoD87",
        "colab_type": "text"
      },
      "source": [
        "Assignment 1"
      ]
    },
    {
      "cell_type": "code",
      "metadata": {
        "id": "A-1vs4sjnJxf",
        "colab_type": "code",
        "colab": {}
      },
      "source": [
        " class bank_account:\n",
        "  ownername = \" \"\n",
        "  balance = 0\n",
        "  \n",
        "  \n",
        "  def __init__(self,ownername,balance):\n",
        "    self.ownername = ownername\n",
        "    self.balance =  balance\n",
        "  \n",
        "  def details(self):\n",
        "    print(\"Owner Name is \\n \" , self.ownername)\n",
        "    print(\"Balance is \\n\" , self.balance)\n",
        "  \n",
        "  def deposit(self,dep):\n",
        "    self.dep = dep\n",
        "    self.balance += self.dep\n",
        "    print(self.dep ,\"deposited succesfully and the updated balance is \"  , self.balance)\n",
        "  \n",
        "  def withdraw(self,wdraw):\n",
        "    self.wdraw = wdraw\n",
        "    if self.wdraw > self.balance:\n",
        "      print(\"withdrawls may not exceed the balance \\n the avialable balance is \" , self.balance)\n",
        "    else:\n",
        "      self.balance -= self.wdraw\n",
        "      print(\"amount\" ,  self.wdraw  , \"is withdrawed from your account \\n the available balance is  \" ,  self.balance)"
      ],
      "execution_count": 1,
      "outputs": []
    },
    {
      "cell_type": "code",
      "metadata": {
        "id": "OvFgf0bIncsb",
        "colab_type": "code",
        "colab": {}
      },
      "source": [
        " b = bank_account(\"berlin\",1000)"
      ],
      "execution_count": 2,
      "outputs": []
    },
    {
      "cell_type": "code",
      "metadata": {
        "id": "F8IMn_opnq13",
        "colab_type": "code",
        "colab": {
          "base_uri": "https://localhost:8080/",
          "height": 86
        },
        "outputId": "7ff55fd1-26ac-4e00-cdde-3c1bc7bea895"
      },
      "source": [
        " b.details()"
      ],
      "execution_count": 3,
      "outputs": [
        {
          "output_type": "stream",
          "text": [
            "Owner Name is \n",
            "  berlin\n",
            "Balance is \n",
            " 1000\n"
          ],
          "name": "stdout"
        }
      ]
    },
    {
      "cell_type": "code",
      "metadata": {
        "id": "L4Cowd8DnxPX",
        "colab_type": "code",
        "colab": {
          "base_uri": "https://localhost:8080/",
          "height": 54
        },
        "outputId": "18a3f13d-bb8c-4123-dfc2-dc364a733ed3"
      },
      "source": [
        " b.deposit(2000)"
      ],
      "execution_count": 4,
      "outputs": [
        {
          "output_type": "stream",
          "text": [
            "2000 deposited succesfully and the updated balance is  3000\n"
          ],
          "name": "stdout"
        }
      ]
    },
    {
      "cell_type": "code",
      "metadata": {
        "id": "Sq1oJYWCn2x5",
        "colab_type": "code",
        "colab": {
          "base_uri": "https://localhost:8080/",
          "height": 71
        },
        "outputId": "107d7ec1-34b5-4ff5-a566-da8408335e82"
      },
      "source": [
        " b.withdraw(4000)"
      ],
      "execution_count": 5,
      "outputs": [
        {
          "output_type": "stream",
          "text": [
            "withdrawls may not exceed the balance \n",
            " the avialable balance is  3000\n"
          ],
          "name": "stdout"
        }
      ]
    },
    {
      "cell_type": "code",
      "metadata": {
        "id": "BjC6ICHPn7vH",
        "colab_type": "code",
        "colab": {
          "base_uri": "https://localhost:8080/",
          "height": 71
        },
        "outputId": "e3771481-d2df-44a6-823d-074f5fd1e8d3"
      },
      "source": [
        " b.withdraw(2000)"
      ],
      "execution_count": 6,
      "outputs": [
        {
          "output_type": "stream",
          "text": [
            "amount 2000 is withdrawed from your account \n",
            " the available balance is   1000\n"
          ],
          "name": "stdout"
        }
      ]
    },
    {
      "cell_type": "markdown",
      "metadata": {
        "id": "JyW9f_qloIeJ",
        "colab_type": "text"
      },
      "source": [
        "Assignment 2"
      ]
    },
    {
      "cell_type": "code",
      "metadata": {
        "id": "BZTUICxQoNNP",
        "colab_type": "code",
        "colab": {}
      },
      "source": [
        " import math\n",
        " \n",
        "class cone:\n",
        "  radius = 0\n",
        "  height = 0\n",
        " \n",
        "  def __init__(self,radius,height):\n",
        "    self.radius = radius\n",
        "    self.height = height\n",
        "  \n",
        "  def volume(self):\n",
        "    volume = math.pi * self.radius **2 * self.height/3\n",
        "    print(\"The volume of the cone is  \"  ,  volume)\n",
        "  \n",
        "  def surface_area(self):\n",
        "    base = math.pi * self.radius **2\n",
        "    side = math.pi * self.radius * math.sqrt(self.radius**2 + self.height**2 )\n",
        "    print(\"surface area of base = \" , base , \"\\nSurface Area of the Side = \"  ,  side)"
      ],
      "execution_count": 7,
      "outputs": []
    },
    {
      "cell_type": "code",
      "metadata": {
        "id": "4ye9d3s-oTo5",
        "colab_type": "code",
        "colab": {}
      },
      "source": [
        " c = cone(3,9)"
      ],
      "execution_count": 11,
      "outputs": []
    },
    {
      "cell_type": "code",
      "metadata": {
        "id": "J1hCiKZ4oYMX",
        "colab_type": "code",
        "colab": {
          "base_uri": "https://localhost:8080/",
          "height": 54
        },
        "outputId": "acb48d39-38c7-4caf-8d1c-bc8ff44da57d"
      },
      "source": [
        " c.volume()"
      ],
      "execution_count": 12,
      "outputs": [
        {
          "output_type": "stream",
          "text": [
            "The volume of the cone is   84.82300164692441\n"
          ],
          "name": "stdout"
        }
      ]
    },
    {
      "cell_type": "code",
      "metadata": {
        "id": "9-nTJiGnodAC",
        "colab_type": "code",
        "colab": {
          "base_uri": "https://localhost:8080/",
          "height": 71
        },
        "outputId": "0d3d4f33-0241-4b86-e1d2-1a1d2329a8a8"
      },
      "source": [
        " c.surface_area()"
      ],
      "execution_count": 13,
      "outputs": [
        {
          "output_type": "stream",
          "text": [
            "surface area of base =  28.274333882308138 \n",
            "Surface Area of the Side =  89.4112943921649\n"
          ],
          "name": "stdout"
        }
      ]
    }
  ]
}