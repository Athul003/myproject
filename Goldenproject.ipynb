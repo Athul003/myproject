{
  "nbformat": 4,
  "nbformat_minor": 0,
  "metadata": {
    "colab": {
      "name": "Goldenproject.ipynb",
      "provenance": [],
      "authorship_tag": "ABX9TyNa3ai856cZ9HjUW4e6ZOdk",
      "include_colab_link": true
    },
    "kernelspec": {
      "name": "python3",
      "display_name": "Python 3"
    }
  },
  "cells": [
    {
      "cell_type": "markdown",
      "metadata": {
        "id": "view-in-github",
        "colab_type": "text"
      },
      "source": [
        "<a href=\"https://colab.research.google.com/github/Athul003/myproject/blob/master/Goldenproject.ipynb\" target=\"_parent\"><img src=\"https://colab.research.google.com/assets/colab-badge.svg\" alt=\"Open In Colab\"/></a>"
      ]
    },
    {
      "cell_type": "code",
      "metadata": {
        "id": "G1A8opBJ5jE1",
        "colab_type": "code",
        "colab": {
          "base_uri": "https://localhost:8080/",
          "height": 136
        },
        "outputId": "0e316a78-59cf-47b1-9c82-bd26ee48ecc0"
      },
      "source": [
        "cases=int(input(\"Enter no of seats \"))\n",
        "seatno=list()\n",
        "rem=0\n",
        "while cases:\n",
        "  seatno.append(int(input(\"Enter the seat number \")))\n",
        "  cases -=1\n"
      ],
      "execution_count": 35,
      "outputs": [
        {
          "output_type": "stream",
          "text": [
            "Enter no of seats 6\n",
            "Enter the seat number 37\n",
            "Enter the seat number 33\n",
            "Enter the seat number 12\n",
            "Enter the seat number 4\n",
            "Enter the seat number 6\n",
            "Enter the seat number 5\n"
          ],
          "name": "stdout"
        }
      ]
    },
    {
      "cell_type": "code",
      "metadata": {
        "id": "FYEmAmFTzuLm",
        "colab_type": "code",
        "colab": {
          "base_uri": "https://localhost:8080/",
          "height": 119
        },
        "outputId": "1c389617-a514-4002-c0dc-0e4727a4752c"
      },
      "source": [
        "for i in range(len(seatno)):\n",
        "    rem=seatno[i]%12\n",
        "    if rem==1:\n",
        "      print(seatno[i]+11,\" WS\")\n",
        "    elif rem==2:\n",
        "      print(seatno[i]+9,\" MS\")\n",
        "    elif rem==3:\n",
        "      print(seatno[i]+7,\" AS\")\n",
        "    elif rem==4:\n",
        "      print(seatno[i]+5,\" AS\")\n",
        "    elif rem==5:\n",
        "      print(seatno[i]+3,\" MS\")\n",
        "    elif rem==6:\n",
        "      print(seatno[i]+1,\" WS\")\n",
        "    elif rem==7:\n",
        "      print(seatno[i]-1,\" WS\")\n",
        "    elif rem==8:\n",
        "      print(seatno[i]-3,\" MS\")\n",
        "    elif rem==9:\n",
        "      print(seatno[i]-5,\" AS\")\n",
        "    elif rem==10:\n",
        "      print(seatno[i]-7,\" AS\")\n",
        "    elif rem==11:\n",
        "      print(seatno[i]-9,\" MS\")\n",
        "    else:\n",
        "       print(seatno[i]-11,\" WS\")\n",
        "    rem=0\n"
      ],
      "execution_count": 36,
      "outputs": [
        {
          "output_type": "stream",
          "text": [
            "48  WS\n",
            "28  AS\n",
            "1  WS\n",
            "9  AS\n",
            "7  WS\n",
            "8  MS\n"
          ],
          "name": "stdout"
        }
      ]
    }
  ]
}