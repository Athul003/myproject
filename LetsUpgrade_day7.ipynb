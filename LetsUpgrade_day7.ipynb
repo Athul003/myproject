{
  "nbformat": 4,
  "nbformat_minor": 0,
  "metadata": {
    "colab": {
      "name": "LetsUpgrade day7.ipynb",
      "provenance": [],
      "authorship_tag": "ABX9TyMsIBu15LG6XMAWiSxDH3x4",
      "include_colab_link": true
    },
    "kernelspec": {
      "name": "python3",
      "display_name": "Python 3"
    }
  },
  "cells": [
    {
      "cell_type": "markdown",
      "metadata": {
        "id": "view-in-github",
        "colab_type": "text"
      },
      "source": [
        "<a href=\"https://colab.research.google.com/github/Athul003/myproject/blob/master/LetsUpgrade_day7.ipynb\" target=\"_parent\"><img src=\"https://colab.research.google.com/assets/colab-badge.svg\" alt=\"Open In Colab\"/></a>"
      ]
    },
    {
      "cell_type": "markdown",
      "metadata": {
        "id": "xs-MsXs_od-y",
        "colab_type": "text"
      },
      "source": [
        "Assignment 1"
      ]
    },
    {
      "cell_type": "code",
      "metadata": {
        "id": "KLiq7S3wnSPr",
        "colab_type": "code",
        "colab": {}
      },
      "source": [
        " f = open('1.txt','w')\n",
        "f.write(\"Hello\")\n",
        "f.close()"
      ],
      "execution_count": 5,
      "outputs": []
    },
    {
      "cell_type": "code",
      "metadata": {
        "id": "iIwbB7HLnX0A",
        "colab_type": "code",
        "colab": {
          "base_uri": "https://localhost:8080/",
          "height": 51
        },
        "outputId": "e7b24d75-cfd2-41ce-d55f-efb462f2916e"
      },
      "source": [
        " f = open('1.txt','r')\n",
        "try : \n",
        "  f.write(\"everyone\")\n",
        "except Exception as e:\n",
        "  print(\"there was an error\")\n",
        "  print(\"the error is \" ,e)\n",
        "finally :\n",
        "  f.close()"
      ],
      "execution_count": 7,
      "outputs": [
        {
          "output_type": "stream",
          "text": [
            "there was an error\n",
            "the error is  not writable\n"
          ],
          "name": "stdout"
        }
      ]
    },
    {
      "cell_type": "markdown",
      "metadata": {
        "id": "LcqCEI8BntSi",
        "colab_type": "text"
      },
      "source": [
        "Assignment 2"
      ]
    },
    {
      "cell_type": "code",
      "metadata": {
        "id": "RAIvJk48nvFg",
        "colab_type": "code",
        "colab": {
          "base_uri": "https://localhost:8080/",
          "height": 34
        },
        "outputId": "2251eaee-7310-4a64-a04d-11acd7a6998d"
      },
      "source": [
        " %%writefile prime.py\n",
        "'''\n",
        "this is a simple program checking prime number\n",
        "'''\n",
        "def primeno(num):\n",
        "    '''\n",
        "    this function checks whether a number is prime or not\n",
        "    '''\n",
        "    for i in range(2, num):\n",
        "        if num%i == 0:\n",
        "            return False\n",
        "        else:\n",
        "            return True"
      ],
      "execution_count": 8,
      "outputs": [
        {
          "output_type": "stream",
          "text": [
            "Writing prime.py\n"
          ],
          "name": "stdout"
        }
      ]
    },
    {
      "cell_type": "code",
      "metadata": {
        "id": "jKYX9vSyn4zA",
        "colab_type": "code",
        "colab": {
          "base_uri": "https://localhost:8080/",
          "height": 435
        },
        "outputId": "2ed17542-92ec-4739-d9d0-485bc3182c00"
      },
      "source": [
        " ! pip install pylint"
      ],
      "execution_count": 9,
      "outputs": [
        {
          "output_type": "stream",
          "text": [
            "Collecting pylint\n",
            "\u001b[?25l  Downloading https://files.pythonhosted.org/packages/e8/fb/734960c55474c8f74e6ad4c8588fc44073fb9d69e223269d26a3c2435d16/pylint-2.5.3-py3-none-any.whl (324kB)\n",
            "\u001b[K     |████████████████████████████████| 327kB 2.7MB/s \n",
            "\u001b[?25hCollecting toml>=0.7.1\n",
            "  Downloading https://files.pythonhosted.org/packages/9f/e1/1b40b80f2e1663a6b9f497123c11d7d988c0919abbf3c3f2688e448c5363/toml-0.10.1-py2.py3-none-any.whl\n",
            "Collecting mccabe<0.7,>=0.6\n",
            "  Downloading https://files.pythonhosted.org/packages/87/89/479dc97e18549e21354893e4ee4ef36db1d237534982482c3681ee6e7b57/mccabe-0.6.1-py2.py3-none-any.whl\n",
            "Collecting isort<5,>=4.2.5\n",
            "\u001b[?25l  Downloading https://files.pythonhosted.org/packages/e5/b0/c121fd1fa3419ea9bfd55c7f9c4fedfec5143208d8c7ad3ce3db6c623c21/isort-4.3.21-py2.py3-none-any.whl (42kB)\n",
            "\u001b[K     |████████████████████████████████| 51kB 5.3MB/s \n",
            "\u001b[?25hCollecting astroid<=2.5,>=2.4.0\n",
            "\u001b[?25l  Downloading https://files.pythonhosted.org/packages/24/a8/5133f51967fb21e46ee50831c3f5dda49e976b7f915408d670b1603d41d6/astroid-2.4.2-py3-none-any.whl (213kB)\n",
            "\u001b[K     |████████████████████████████████| 215kB 8.3MB/s \n",
            "\u001b[?25hCollecting lazy-object-proxy==1.4.*\n",
            "\u001b[?25l  Downloading https://files.pythonhosted.org/packages/0b/dd/b1e3407e9e6913cf178e506cd0dee818e58694d9a5cd1984e3f6a8b9a10f/lazy_object_proxy-1.4.3-cp36-cp36m-manylinux1_x86_64.whl (55kB)\n",
            "\u001b[K     |████████████████████████████████| 61kB 6.0MB/s \n",
            "\u001b[?25hCollecting typed-ast<1.5,>=1.4.0; implementation_name == \"cpython\" and python_version < \"3.8\"\n",
            "\u001b[?25l  Downloading https://files.pythonhosted.org/packages/90/ed/5459080d95eb87a02fe860d447197be63b6e2b5e9ff73c2b0a85622994f4/typed_ast-1.4.1-cp36-cp36m-manylinux1_x86_64.whl (737kB)\n",
            "\u001b[K     |████████████████████████████████| 747kB 12.1MB/s \n",
            "\u001b[?25hRequirement already satisfied: six~=1.12 in /usr/local/lib/python3.6/dist-packages (from astroid<=2.5,>=2.4.0->pylint) (1.12.0)\n",
            "Requirement already satisfied: wrapt~=1.11 in /usr/local/lib/python3.6/dist-packages (from astroid<=2.5,>=2.4.0->pylint) (1.12.1)\n",
            "Installing collected packages: toml, mccabe, isort, lazy-object-proxy, typed-ast, astroid, pylint\n",
            "Successfully installed astroid-2.4.2 isort-4.3.21 lazy-object-proxy-1.4.3 mccabe-0.6.1 pylint-2.5.3 toml-0.10.1 typed-ast-1.4.1\n"
          ],
          "name": "stdout"
        }
      ]
    },
    {
      "cell_type": "markdown",
      "metadata": {
        "id": "md0NXOG7oGOE",
        "colab_type": "text"
      },
      "source": [
        "Pylint"
      ]
    },
    {
      "cell_type": "code",
      "metadata": {
        "id": "p1zAiaIxoJD9",
        "colab_type": "code",
        "colab": {
          "base_uri": "https://localhost:8080/",
          "height": 262
        },
        "outputId": "48f81713-9b24-420d-ded9-cc2edd5f50bb"
      },
      "source": [
        "! pylint prime.py"
      ],
      "execution_count": 11,
      "outputs": [
        {
          "output_type": "stream",
          "text": [
            "************* Module prime\n",
            "prime.py:5:0: W0311: Bad indentation. Found 3 spaces, expected 4 (bad-indentation)\n",
            "prime.py:8:0: W0311: Bad indentation. Found 3 spaces, expected 4 (bad-indentation)\n",
            "prime.py:9:0: W0311: Bad indentation. Found 7 spaces, expected 8 (bad-indentation)\n",
            "prime.py:10:0: W0311: Bad indentation. Found 11 spaces, expected 12 (bad-indentation)\n",
            "prime.py:11:0: W0311: Bad indentation. Found 7 spaces, expected 8 (bad-indentation)\n",
            "prime.py:12:0: C0304: Final newline missing (missing-final-newline)\n",
            "prime.py:12:0: W0311: Bad indentation. Found 11 spaces, expected 12 (bad-indentation)\n",
            "prime.py:9:7: R1705: Unnecessary \"else\" after \"return\" (no-else-return)\n",
            "\n",
            "--------------------------------------------------------------------\n",
            "Your code has been rated at -6.00/10 (previous run: -6.00/10, +0.00)\n",
            "\n"
          ],
          "name": "stdout"
        }
      ]
    },
    {
      "cell_type": "markdown",
      "metadata": {
        "id": "y7p6zhKPooaJ",
        "colab_type": "text"
      },
      "source": [
        "Unit testing"
      ]
    },
    {
      "cell_type": "code",
      "metadata": {
        "id": "BVMeYbNgouQy",
        "colab_type": "code",
        "colab": {
          "base_uri": "https://localhost:8080/",
          "height": 34
        },
        "outputId": "a291d3f8-5f1f-4511-daef-0f20ffacf7c8"
      },
      "source": [
        " %%writefile prime_test.py\n",
        " \n",
        "import unittest\n",
        "import prime\n",
        " \n",
        "class primetesting(unittest.TestCase):\n",
        "    def testp(self):\n",
        "        temp = 7\n",
        "        result = prime.primeno(temp)\n",
        "        self.assertAlmostEqual(result,True)\n",
        "    def testp2(self):\n",
        "        temp = 97\n",
        "        result = prime.primeno(temp)\n",
        "        self.assertAlmostEqual(result,True)\n",
        " \n",
        "if __name__ ==\"__main__\":\n",
        "    unittest.main()"
      ],
      "execution_count": 12,
      "outputs": [
        {
          "output_type": "stream",
          "text": [
            "Writing prime_test.py\n"
          ],
          "name": "stdout"
        }
      ]
    },
    {
      "cell_type": "code",
      "metadata": {
        "id": "NmZdWPsSo3RI",
        "colab_type": "code",
        "colab": {
          "base_uri": "https://localhost:8080/",
          "height": 123
        },
        "outputId": "88c24c4a-d735-45a1-e01b-1bffdc56590a"
      },
      "source": [
        " ! python prime_test.py"
      ],
      "execution_count": 13,
      "outputs": [
        {
          "output_type": "stream",
          "text": [
            "..\n",
            "----------------------------------------------------------------------\n",
            "Ran 2 tests in 0.000s\n",
            "\n",
            "OK\n"
          ],
          "name": "stdout"
        }
      ]
    }
  ]
}