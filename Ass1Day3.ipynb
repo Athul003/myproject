{
  "nbformat": 4,
  "nbformat_minor": 0,
  "metadata": {
    "colab": {
      "name": "Ass1Day3.ipynb",
      "provenance": [],
      "authorship_tag": "ABX9TyN/6kbv1ANzTB0dMEK9PyAj",
      "include_colab_link": true
    },
    "kernelspec": {
      "name": "python3",
      "display_name": "Python 3"
    }
  },
  "cells": [
    {
      "cell_type": "markdown",
      "metadata": {
        "id": "view-in-github",
        "colab_type": "text"
      },
      "source": [
        "<a href=\"https://colab.research.google.com/github/Athul003/myproject/blob/master/Ass1Day3.ipynb\" target=\"_parent\"><img src=\"https://colab.research.google.com/assets/colab-badge.svg\" alt=\"Open In Colab\"/></a>"
      ]
    },
    {
      "cell_type": "code",
      "metadata": {
        "id": "JCzvutpMQRp4",
        "colab_type": "code",
        "colab": {}
      },
      "source": [
        "altitude=int(input(\"Enter the altitude\"))"
      ],
      "execution_count": null,
      "outputs": []
    },
    {
      "cell_type": "code",
      "metadata": {
        "id": "Cy4DAoNXQrX_",
        "colab_type": "code",
        "colab": {}
      },
      "source": [
        "If altitude<=1000:"
      ],
      "execution_count": null,
      "outputs": []
    },
    {
      "cell_type": "code",
      "metadata": {
        "id": "RulLr1xNQ4aP",
        "colab_type": "code",
        "colab": {}
      },
      "source": [
        "print(\"Safe to land\")"
      ],
      "execution_count": null,
      "outputs": []
    },
    {
      "cell_type": "code",
      "metadata": {
        "id": "QYGxVYcIRAMI",
        "colab_type": "code",
        "colab": {}
      },
      "source": [
        "elif altitude>1000 and altitude<=5000:"
      ],
      "execution_count": null,
      "outputs": []
    },
    {
      "cell_type": "code",
      "metadata": {
        "id": "jdPznLKnRLf9",
        "colab_type": "code",
        "colab": {}
      },
      "source": [
        "print(\"Bring down to 1000\")"
      ],
      "execution_count": null,
      "outputs": []
    },
    {
      "cell_type": "code",
      "metadata": {
        "id": "V3lhNpIBRSel",
        "colab_type": "code",
        "colab": {}
      },
      "source": [
        "else:"
      ],
      "execution_count": null,
      "outputs": []
    },
    {
      "cell_type": "code",
      "metadata": {
        "id": "3YkapSXBRVrB",
        "colab_type": "code",
        "colab": {
          "base_uri": "https://localhost:8080/",
          "height": 34
        },
        "outputId": "f9e22890-64a8-4dc1-ad7f-654bb6bf55de"
      },
      "source": [
        "print (\"Turn around and Attempt later\")"
      ],
      "execution_count": 1,
      "outputs": [
        {
          "output_type": "stream",
          "text": [
            "Turn around and Attempt later\n"
          ],
          "name": "stdout"
        }
      ]
    }
  ]
}