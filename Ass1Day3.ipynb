{
  "nbformat": 4,
  "nbformat_minor": 0,
  "metadata": {
    "colab": {
      "name": "Ass1Day3.ipynb",
      "provenance": [],
      "authorship_tag": "ABX9TyOqGto4omoNc4sT9Au9xuTy",
      "include_colab_link": true
    },
    "kernelspec": {
      "name": "python3",
      "display_name": "Python 3"
    }
  },
  "cells": [
    {
      "cell_type": "markdown",
      "metadata": {
        "id": "view-in-github",
        "colab_type": "text"
      },
      "source": [
        "<a href=\"https://colab.research.google.com/github/Athul003/myproject/blob/master/Ass1Day3.ipynb\" target=\"_parent\"><img src=\"https://colab.research.google.com/assets/colab-badge.svg\" alt=\"Open In Colab\"/></a>"
      ]
    },
    {
      "cell_type": "code",
      "metadata": {
        "id": "xF0zxR5pSxcn",
        "colab_type": "code",
        "colab": {
          "base_uri": "https://localhost:8080/",
          "height": 51
        },
        "outputId": "089abbff-bfec-43e2-ca4b-b5fdbbdbd185"
      },
      "source": [
        "altitude=int(input(\"Enter the altitude\"))\n",
        "if altitude<=1000:\n",
        " print (\"Safe to land\")\n",
        "elif altitude>1000 and altitude<=5000:\n",
        " print (\"Bring down to 1000\")\n",
        "else:\n",
        " print(\"Turn around and Attempt later\")"
      ],
      "execution_count": null,
      "outputs": [
        {
          "output_type": "stream",
          "text": [
            "Enter the altitude1000\n",
            "Safe to land\n"
          ],
          "name": "stdout"
        }
      ]
    }
  ]
}