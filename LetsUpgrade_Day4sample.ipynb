{
  "nbformat": 4,
  "nbformat_minor": 0,
  "metadata": {
    "colab": {
      "name": "LetsUpgrade Day4.ipynb",
      "provenance": [],
      "authorship_tag": "ABX9TyNwKuLOy6VoBv9mqig4Up08",
      "include_colab_link": true
    },
    "kernelspec": {
      "name": "python3",
      "display_name": "Python 3"
    }
  },
  "cells": [
    {
      "cell_type": "markdown",
      "metadata": {
        "id": "view-in-github",
        "colab_type": "text"
      },
      "source": [
        "<a href=\"https://colab.research.google.com/github/Athul003/myproject/blob/master/LetsUpgrade_Day4sample.ipynb\" target=\"_parent\"><img src=\"https://colab.research.google.com/assets/colab-badge.svg\" alt=\"Open In Colab\"/></a>"
      ]
    },
    {
      "cell_type": "markdown",
      "metadata": {
        "id": "vCDYolqNGfii",
        "colab_type": "text"
      },
      "source": [
        "Assignment 1"
      ]
    },
    {
      "cell_type": "code",
      "metadata": {
        "id": "QYIbomDiFq1i",
        "colab_type": "code",
        "colab": {}
      },
      "source": [
        " def fibonacci():\n",
        "  limit = int(input(\"Enter the number of fibbonaci numbers needed\"))\n",
        " \n",
        "  a=0\n",
        "  b=1\n",
        "  for i in range(limit):\n",
        "    print(a)\n",
        "    c = a\n",
        "    a = b\n",
        "    b = c + a"
      ],
      "execution_count": 10,
      "outputs": []
    },
    {
      "cell_type": "markdown",
      "metadata": {
        "id": "3kaeZjyIHCvW",
        "colab_type": "text"
      },
      "source": [
        "Assignment 2"
      ]
    },
    {
      "cell_type": "code",
      "metadata": {
        "id": "Ip0uKvY4HIXu",
        "colab_type": "code",
        "colab": {}
      },
      "source": [
        " file = open(\"New File.txt\",\"w\")\n",
        "file.write(\"I Love LetsUpgrade\")\n",
        "file.close()"
      ],
      "execution_count": 11,
      "outputs": []
    },
    {
      "cell_type": "code",
      "metadata": {
        "id": "8A5aC4rxHRQI",
        "colab_type": "code",
        "colab": {
          "base_uri": "https://localhost:8080/",
          "height": 34
        },
        "outputId": "dd25f075-f11a-4ee5-df3d-61ac4ca5ac97"
      },
      "source": [
        " file = open(\"New File.txt\",\"r\")\n",
        "print(file.read())\n",
        "file.close()"
      ],
      "execution_count": 12,
      "outputs": [
        {
          "output_type": "stream",
          "text": [
            "I Love LetsUpgrade\n"
          ],
          "name": "stdout"
        }
      ]
    },
    {
      "cell_type": "code",
      "metadata": {
        "id": "5bF5SWc1HYGW",
        "colab_type": "code",
        "colab": {}
      },
      "source": [
        " file = open(\"New File.txt\",\"a\")\n",
        "file.write(\"We all love Python class with LU\")\n",
        "file.close()"
      ],
      "execution_count": 13,
      "outputs": []
    },
    {
      "cell_type": "code",
      "metadata": {
        "id": "qPUf1VonHicv",
        "colab_type": "code",
        "colab": {
          "base_uri": "https://localhost:8080/",
          "height": 54
        },
        "outputId": "0eb0bd71-663c-4d9b-9c63-bc08afc986fa"
      },
      "source": [
        " with open(\"New File.txt\") as file:\n",
        "  print(file.read())"
      ],
      "execution_count": 14,
      "outputs": [
        {
          "output_type": "stream",
          "text": [
            "I Love LetsUpgradeWe all love Python class with LU\n"
          ],
          "name": "stdout"
        }
      ]
    },
    {
      "cell_type": "markdown",
      "metadata": {
        "id": "b24525LCHVir",
        "colab_type": "text"
      },
      "source": [
        "Assignment 3"
      ]
    },
    {
      "cell_type": "code",
      "metadata": {
        "id": "lD9IqVCTHsfe",
        "colab_type": "code",
        "colab": {}
      },
      "source": [
        " import random\n",
        "def moviesuggestion():\n",
        "  print(\"Select the Movie Section\")\n",
        "  print(\" 1.Anim \\n 2.Romcom \\n 3.Action \\n 4.Thriller\")\n",
        "  Anim = [\"Tom AND JERRY\",\"Spider Man\",\"Iron Man\",\"Ice Age\",\"Naruto\",\"BEN10\",\"Chotta Beam\",\"Mr Bean\"]\n",
        "  Romcom = [\"Romeo and Juliet\",\"Love 24*7\",\"9\",\"LOVE YoU\",\"Where are U\",\"Friends\",\"Faded\",\"My Story\"]\n",
        "  Action = [\"Kgf\",\"Bahubali\",\"Lucifer\",\"Anjaan\",\"Kathi\",\"24\",\"Dhoom\",\"War\"]\n",
        "  Thriller = [\"Kali\",\"Money Heist\",\"Malang\",\"Spyder\",\"Oppam\",\"Forensic\",\"Ancham Pathira\",\"Joesph\"]\n",
        " \n",
        "  m = int(input(\"enter your choice\"))\n",
        " \n",
        "  if m == 1 :\n",
        "    print(\"Movies for You\",random.sample(Anim,2))\n",
        "  elif m == 2:\n",
        "    print(\"Movies for You\",random.sample(Romcom,2))\n",
        "  elif m == 3:\n",
        "    print(\"Movies for You\",random.sample(Action,2))\n",
        "  elif m == 4:\n",
        "    print(\"Movies for You\",random.sample(Thriller,2))\n",
        "  else:\n",
        "    print(\"invalid choice\")"
      ],
      "execution_count": 17,
      "outputs": []
    }
  ]
}